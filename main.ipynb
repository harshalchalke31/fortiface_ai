{
 "cells": [
  {
   "cell_type": "markdown",
   "metadata": {},
   "source": [
    "## Dependencies"
   ]
  },
  {
   "cell_type": "code",
   "execution_count": 1,
   "metadata": {},
   "outputs": [],
   "source": [
    "import cv2\n",
    "import os\n",
    "import matplotlib.pyplot as plt\n",
    "import torch\n",
    "import torch.nn as nn\n",
    "import random\n",
    "import numpy as np\n",
    "from prepare_data import anc_path,pos_path,neg_path"
   ]
  },
  {
   "cell_type": "markdown",
   "metadata": {},
   "source": [
    "### Setup and manage GPU usage"
   ]
  },
  {
   "cell_type": "code",
   "execution_count": 2,
   "metadata": {},
   "outputs": [
    {
     "name": "stdout",
     "output_type": "stream",
     "text": [
      "Using Device: cuda \n",
      "Current GPU: NVIDIA GeForce RTX 4060 Laptop GPU \n",
      "Cuda version: 11.8 \n",
      "cuDNN available: True \n",
      "cuDNN version: 90100 \n",
      "Allocated memory: 0 bytes \n",
      "Cached memory: 0 bytes\n"
     ]
    }
   ],
   "source": [
    "if torch.cuda.is_available():    \n",
    "    device = torch.device(\"cuda\")\n",
    "    current_device= torch.cuda.current_device()\n",
    "    # Limit memory usage to 80%\n",
    "    torch.cuda.set_per_process_memory_fraction(0.8,device=current_device)\n",
    "    # For optimized memory utilization during tensor operations\n",
    "    torch.backends.cudnn.benchmark = True\n",
    "    print(f\"Using Device: {device}\",\n",
    "          f\"\\nCurrent GPU: {torch.cuda.get_device_name(current_device)}\",\n",
    "          f\"\\nCuda version: {torch.version.cuda}\",\n",
    "          f\"\\ncuDNN available: {torch.backends.cudnn.is_available()}\",\n",
    "          f\"\\ncuDNN version: {torch.backends.cudnn.version()}\",\n",
    "          f\"\\nAllocated memory: {torch.cuda.memory_allocated()} bytes\",\n",
    "          f\"\\nCached memory: {torch.cuda.memory_reserved()} bytes\")\n",
    "else:\n",
    "    device = torch.device(\"cpu\")\n",
    "    print(f\"Using Device: {device}\")\n"
   ]
  },
  {
   "cell_type": "markdown",
   "metadata": {},
   "source": [
    "## Register your face"
   ]
  },
  {
   "cell_type": "code",
   "execution_count": null,
   "metadata": {},
   "outputs": [],
   "source": [
    "cap = "
   ]
  }
 ],
 "metadata": {
  "kernelspec": {
   "display_name": "mainenv",
   "language": "python",
   "name": "python3"
  },
  "language_info": {
   "codemirror_mode": {
    "name": "ipython",
    "version": 3
   },
   "file_extension": ".py",
   "mimetype": "text/x-python",
   "name": "python",
   "nbconvert_exporter": "python",
   "pygments_lexer": "ipython3",
   "version": "3.11.0"
  }
 },
 "nbformat": 4,
 "nbformat_minor": 2
}
