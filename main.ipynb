{
 "cells": [
  {
   "cell_type": "markdown",
   "metadata": {},
   "source": [
    "## Dependencies"
   ]
  },
  {
   "cell_type": "code",
   "execution_count": null,
   "metadata": {},
   "outputs": [],
   "source": [
    "import cv2\n",
    "import os\n",
    "import matplotlib.pyplot as plt\n",
    "import torch\n",
    "import torch.nn as nn\n",
    "from torch.utils.data import DataLoader, Dataset, random_split\n",
    "from torchvision import transforms\n",
    "from PIL import Image\n",
    "import glob\n",
    "import random\n",
    "import numpy as np\n",
    "from utils import ImageDataset\n",
    "\n",
    "\n",
    "\n",
    "cwd = os.path.join(os.getcwd(),\"data\")\n",
    "# setup paths\n",
    "pos_path = os.path.join(cwd,\"pos\")\n",
    "neg_path = os.path.join(cwd,\"neg\")\n",
    "anc_path = os.path.join(cwd,\"anc\")"
   ]
  },
  {
   "cell_type": "markdown",
   "metadata": {},
   "source": [
    "### Setup and manage GPU usage"
   ]
  },
  {
   "cell_type": "code",
   "execution_count": 2,
   "metadata": {},
   "outputs": [
    {
     "name": "stdout",
     "output_type": "stream",
     "text": [
      "Using Device: cuda \n",
      "Current GPU: NVIDIA GeForce RTX 4060 Laptop GPU \n",
      "Cuda version: 11.8 \n",
      "cuDNN available: True \n",
      "cuDNN version: 90100 \n",
      "Allocated memory: 0 bytes \n",
      "Cached memory: 0 bytes\n"
     ]
    }
   ],
   "source": [
    "if torch.cuda.is_available():    \n",
    "    device = torch.device(\"cuda\")\n",
    "    current_device= torch.cuda.current_device()\n",
    "    # Limit memory usage to 80%\n",
    "    torch.cuda.set_per_process_memory_fraction(0.8,device=current_device)\n",
    "    # For optimized memory utilization during tensor operations\n",
    "    torch.backends.cudnn.benchmark = True\n",
    "    print(f\"Using Device: {device}\",\n",
    "          f\"\\nCurrent GPU: {torch.cuda.get_device_name(current_device)}\",\n",
    "          f\"\\nCuda version: {torch.version.cuda}\",\n",
    "          f\"\\ncuDNN available: {torch.backends.cudnn.is_available()}\",\n",
    "          f\"\\ncuDNN version: {torch.backends.cudnn.version()}\",\n",
    "          f\"\\nAllocated memory: {torch.cuda.memory_allocated()} bytes\",\n",
    "          f\"\\nCached memory: {torch.cuda.memory_reserved()} bytes\")\n",
    "else:\n",
    "    device = torch.device(\"cpu\")\n",
    "    print(f\"Using Device: {device}\")\n"
   ]
  },
  {
   "cell_type": "markdown",
   "metadata": {},
   "source": [
    "## Data preprocessing"
   ]
  },
  {
   "cell_type": "code",
   "execution_count": null,
   "metadata": {},
   "outputs": [],
   "source": []
  },
  {
   "cell_type": "code",
   "execution_count": 3,
   "metadata": {},
   "outputs": [],
   "source": [
    "# preparing transformations\n",
    "transform = transforms.Compose([\n",
    "    transforms.Resize((100,100)),\n",
    "    transforms.ToTensor()\n",
    "])\n",
    "\n",
    "# create dataset\n",
    "dataset = ImageDataset(anc_path,pos_path,neg_path,transform)\n",
    "# train-test split\n",
    "train_size = int(0.7*len(dataset))\n",
    "val_size = len(dataset)-train_size\n",
    "train_data,val_data=random_split(dataset,[train_size,val_size])\n",
    "\n",
    "train_loader = DataLoader(train_data,batch_size=16,shuffle=True,num_workers=4,prefetch_factor=8)\n",
    "val_loader = DataLoader(val_data,batch_size=16,shuffle=True,num_workers=4,prefetch_factor=8)\n",
    "\n",
    "\n"
   ]
  }
 ],
 "metadata": {
  "kernelspec": {
   "display_name": "mainenv",
   "language": "python",
   "name": "python3"
  },
  "language_info": {
   "codemirror_mode": {
    "name": "ipython",
    "version": 3
   },
   "file_extension": ".py",
   "mimetype": "text/x-python",
   "name": "python",
   "nbconvert_exporter": "python",
   "pygments_lexer": "ipython3",
   "version": "3.11.0"
  }
 },
 "nbformat": 4,
 "nbformat_minor": 2
}
